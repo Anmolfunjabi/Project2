{
 "cells": [
  {
   "cell_type": "code",
   "execution_count": null,
   "metadata": {},
   "outputs": [
    {
     "name": "stdout",
     "output_type": "stream",
     "text": [
      "Enter City :mumbai\n",
      "Enter Unit:c\n",
      "     city  Temperature Unit  Humidity  Update  description\n",
      "0  mumbai        30.47    F        79       1  shower rain\n",
      "Enter City :Delhi\n",
      "Enter Unit:C\n",
      "    city  Temperature Unit  Humidity  Update description\n",
      "0  Delhi       307.69    C        71       1        haze\n",
      "Enter City :usa\n",
      "Enter Unit:F\n",
      "  city  Temperature Unit  Humidity  Update    description\n",
      "0  usa        23.14    F        60       1  broken clouds\n",
      "Enter City :japan\n",
      "Enter Unit:C\n",
      "    city  Temperature Unit  Humidity  Update    description\n",
      "0  japan       304.62    C        74       1  broken clouds\n"
     ]
    }
   ],
   "source": [
    "import pandas as pd\n",
    "from openpyxl import Workbook\n",
    "from openpyxl.utils.dataframe import dataframe_to_rows\n",
    "import requests, json\n",
    "\n",
    "workbook = Workbook()\n",
    "sheet = workbook.active\n",
    "\n",
    "for row in range(100):\n",
    "    api_key = '66cb8e8f28c2a3f57ad5706576aa39e8'\n",
    "    base_url = \"https://api.openweathermap.org/data/2.5/weather?\"\n",
    "    city = input(\"Enter City :\")\n",
    "    unit = input(\"Enter Unit:\")\n",
    "    complete_url = base_url + \"appid=\" + api_key + \"&q=\" + city\n",
    "    response = requests.get(complete_url)\n",
    "    x = response.json()\n",
    "    if x[\"cod\"] != \"404\":\n",
    "       y = x[\"main\"]\n",
    "    if unit == 'C':\n",
    "        current_temperature = y[\"temp\"]\n",
    "    else :    \n",
    "        current_temperature = y[\"temp\"]-273 \n",
    "    current_humidity = y[\"humidity\"]\n",
    "    w = x[\"sys\"]\n",
    "    temperature_value = w[\"type\"]\n",
    "    z = x[\"weather\"]\n",
    "    weather_description = z[0][\"description\"]\n",
    "    if current_temperature >= 50:\n",
    "        unit = \"C\"\n",
    "    else :\n",
    "        unit = \"F\"\n",
    "    \n",
    "    data =  {\"city\" : [city],\n",
    "             \"Temperature\":[current_temperature],\n",
    "             \"Unit\":[unit],\n",
    "             \"Humidity\":[current_humidity], \n",
    "             \"Update\":[temperature_value],\n",
    "             \"description\":[weather_description] \n",
    "             }\n",
    "      \n",
    "    df= pd.DataFrame(data)\n",
    "    \n",
    "    for row in dataframe_to_rows(df, index= False, header= True):\n",
    "        sheet.append(row)\n",
    "    \n",
    "    workbook.save(\"pandas.xlsx\")\n",
    "    \n",
    "    \n",
    "    print(df)\n",
    "    \n",
    "\n",
    "else :\n",
    "    print(\"city not found\")\n",
    "    \n",
    "    \n",
    "    \n",
    "   \n",
    "    \n",
    "    "
   ]
  },
  {
   "cell_type": "code",
   "execution_count": null,
   "metadata": {},
   "outputs": [],
   "source": []
  },
  {
   "cell_type": "code",
   "execution_count": null,
   "metadata": {},
   "outputs": [],
   "source": []
  },
  {
   "cell_type": "code",
   "execution_count": null,
   "metadata": {},
   "outputs": [],
   "source": []
  }
 ],
 "metadata": {
  "kernelspec": {
   "display_name": "Python 3",
   "language": "python",
   "name": "python3"
  },
  "language_info": {
   "codemirror_mode": {
    "name": "ipython",
    "version": 3
   },
   "file_extension": ".py",
   "mimetype": "text/x-python",
   "name": "python",
   "nbconvert_exporter": "python",
   "pygments_lexer": "ipython3",
   "version": "3.8.3"
  }
 },
 "nbformat": 4,
 "nbformat_minor": 4
}
